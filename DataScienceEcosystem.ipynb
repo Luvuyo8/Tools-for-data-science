{
 "cells": [
  {
   "cell_type": "markdown",
   "id": "ecc2c18e-2ae5-49de-8d8e-6a7f267aa05a",
   "metadata": {},
   "source": [
    "# Data Science Tools and Ecosystem\n"
   ]
  },
  {
   "cell_type": "markdown",
   "id": "ffafff60-a6a1-4aef-8451-25a711f1fead",
   "metadata": {},
   "source": [
    "In this notebook, Data Science Tools and Ecosystem are summarized.\n",
    "\n"
   ]
  },
  {
   "cell_type": "markdown",
   "id": "ebbee580-d69f-4f2b-8c06-88e489c59fcc",
   "metadata": {},
   "source": [
    "__Objectives:__\n",
    "\n",
    "- List of some of the popular data scince languages\n",
    "- Some of the commonly used libraries\n",
    "- Creating tables in jupyter    \n",
    "- Arithmetic expression\n",
    "- Conversion of minutes to hours\n",
    "    "
   ]
  },
  {
   "cell_type": "markdown",
   "id": "30edc714-173d-43a0-8edb-0d792387d0a1",
   "metadata": {},
   "source": [
    "Some of the popular languages that Data Scientists use are:\n",
    "1. NumPy\n",
    "2. Matplotlib\n",
    "3. Pandas\n",
    "4. Scikit-learn"
   ]
  },
  {
   "cell_type": "markdown",
   "id": "bb7b1b4b-1c8c-4bac-963f-601bd28a328e",
   "metadata": {},
   "source": [
    "| Data science |\n",
    "|------------- |\n",
    "| Jupyter |\n",
    "| Apache zeppelin |\n",
    "| RStudio |"
   ]
  },
  {
   "cell_type": "markdown",
   "id": "aa3c8be6-126b-4df0-a39f-d1f214db7db0",
   "metadata": {},
   "source": [
    "### Below are a few examples of evaluating arithmetic expressions in Python.\n",
    "\n"
   ]
  },
  {
   "cell_type": "code",
   "execution_count": 13,
   "id": "47876577-bdf1-453a-bb36-24f044a2f5b7",
   "metadata": {},
   "outputs": [
    {
     "data": {
      "text/plain": [
       "17"
      ]
     },
     "execution_count": 13,
     "metadata": {},
     "output_type": "execute_result"
    }
   ],
   "source": [
    "# This a simple arithmetic expression to mutiply then add integers\n",
    "(3*4)+5"
   ]
  },
  {
   "cell_type": "code",
   "execution_count": 19,
   "id": "f55916bc-290e-40a2-aee8-49bc60387959",
   "metadata": {},
   "outputs": [
    {
     "data": {
      "text/plain": [
       "3"
      ]
     },
     "execution_count": 19,
     "metadata": {},
     "output_type": "execute_result"
    }
   ],
   "source": [
    "# This will convert 200 minutes to hours by diving by 60\n",
    "200 // 60\n"
   ]
  },
  {
   "cell_type": "markdown",
   "id": "e3e9017c-5bdd-4be5-81f2-ba5812cbd479",
   "metadata": {},
   "source": [
    "## Author\n",
    "Luvuyo Mfincane"
   ]
  },
  {
   "cell_type": "markdown",
   "id": "45608beb-e919-41f1-9a8f-e10c584d3b21",
   "metadata": {},
   "source": []
  }
 ],
 "metadata": {
  "kernelspec": {
   "display_name": "Python 3 (ipykernel)",
   "language": "python",
   "name": "python3"
  },
  "language_info": {
   "codemirror_mode": {
    "name": "ipython",
    "version": 3
   },
   "file_extension": ".py",
   "mimetype": "text/x-python",
   "name": "python",
   "nbconvert_exporter": "python",
   "pygments_lexer": "ipython3",
   "version": "3.12.4"
  }
 },
 "nbformat": 4,
 "nbformat_minor": 5
}
